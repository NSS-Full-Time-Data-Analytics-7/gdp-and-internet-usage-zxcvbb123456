{
 "cells": [
  {
   "cell_type": "code",
   "execution_count": 1,
   "id": "75f59be9",
   "metadata": {
    "scrolled": true
   },
   "outputs": [],
   "source": [
    "import pandas as pd\n",
    "import numpy as np\n",
    "import matplotlib.pyplot as plt\n",
    "import seaborn as sns\n",
    "%matplotlib inline"
   ]
  },
  {
   "cell_type": "markdown",
   "id": "1f337fad",
   "metadata": {},
   "source": [
    "#### qn.98- Look at the shape of each DataFrame - how many rows? How many columns? "
   ]
  },
  {
   "cell_type": "code",
   "execution_count": null,
   "id": "fbc791e3",
   "metadata": {
    "scrolled": false
   },
   "outputs": [],
   "source": [
    "gdp_df = pd.read_csv('../data/gdp_percapita.csv', nrows = 6868)\n",
    "gdp_df"
   ]
  },
  {
   "cell_type": "markdown",
   "id": "7edb0b9d",
   "metadata": {},
   "source": [
    "#### gdp dataset - 6868 rows and 4 columns"
   ]
  },
  {
   "cell_type": "markdown",
   "id": "515223f8",
   "metadata": {},
   "source": [
    "#### qn:98 Look at the shape of each DataFrame - how many rows? How many columns?"
   ]
  },
  {
   "cell_type": "code",
   "execution_count": null,
   "id": "64904fda",
   "metadata": {
    "scrolled": false
   },
   "outputs": [],
   "source": [
    "internet_df = pd.read_csv('../data/internet_use.csv', nrows = 4495)\n",
    "internet_df"
   ]
  },
  {
   "cell_type": "markdown",
   "id": "7b1f0ab9",
   "metadata": {},
   "source": [
    "#### internet dataset - 4495 rows and 4 columns"
   ]
  },
  {
   "cell_type": "markdown",
   "id": "35dbad95",
   "metadata": {},
   "source": [
    "#### Take a look at the datatypes for the columns in each DataFrame."
   ]
  },
  {
   "cell_type": "code",
   "execution_count": null,
   "id": "292e3341",
   "metadata": {
    "scrolled": true
   },
   "outputs": [],
   "source": [
    "print(gdp_df.shape)\n",
    "print(gdp_df.info())\n",
    "print(gdp_df.dtypes)\n",
    "print(gdp_df.columns)"
   ]
  },
  {
   "cell_type": "markdown",
   "id": "6ae7827b",
   "metadata": {},
   "source": [
    "#### Take a look at the datatypes for the columns in each DataFrame."
   ]
  },
  {
   "cell_type": "code",
   "execution_count": null,
   "id": "a81a2fa5",
   "metadata": {
    "scrolled": true
   },
   "outputs": [],
   "source": [
    "print(internet_df.shape)\n",
    "print(internet_df.info())\n",
    "print(internet_df.dtypes)\n",
    "print(internet_df.columns)"
   ]
  },
  {
   "cell_type": "markdown",
   "id": "df5fb2c5",
   "metadata": {},
   "source": [
    "#### Take a look at the last 10 rows of each DataFrame in turn"
   ]
  },
  {
   "cell_type": "code",
   "execution_count": null,
   "id": "9ac86d5b",
   "metadata": {
    "scrolled": false
   },
   "outputs": [],
   "source": [
    "gdp_df.tail(10)"
   ]
  },
  {
   "cell_type": "markdown",
   "id": "a6fa444b",
   "metadata": {},
   "source": [
    "#### Take a look at the last 10 rows of each DataFrame in turn"
   ]
  },
  {
   "cell_type": "code",
   "execution_count": null,
   "id": "81ce67f9",
   "metadata": {
    "scrolled": true
   },
   "outputs": [],
   "source": [
    "internet_df.tail(10)"
   ]
  },
  {
   "cell_type": "code",
   "execution_count": null,
   "id": "504f086a",
   "metadata": {},
   "outputs": [],
   "source": [
    "gdp_df.columns"
   ]
  },
  {
   "cell_type": "markdown",
   "id": "6b262d5f",
   "metadata": {},
   "source": [
    "#### Drop the `value footnotes` column from both DataFrames. Check that this worked as expected."
   ]
  },
  {
   "cell_type": "code",
   "execution_count": null,
   "id": "31a1602c",
   "metadata": {
    "scrolled": true
   },
   "outputs": [],
   "source": [
    "gdp1_df = gdp_df.drop(columns = ['Value Footnotes'])\n",
    "gdp1_df"
   ]
  },
  {
   "cell_type": "markdown",
   "id": "4380dedc",
   "metadata": {},
   "source": [
    "#### Drop the `value footnotes` column from both DataFrames. Check that this worked as expected."
   ]
  },
  {
   "cell_type": "code",
   "execution_count": null,
   "id": "ada8e563",
   "metadata": {
    "scrolled": true
   },
   "outputs": [],
   "source": [
    "internet1_df = internet_df.drop(columns= ['Value Footnotes'])\n",
    "internet1_df"
   ]
  },
  {
   "cell_type": "markdown",
   "id": "2c83894a",
   "metadata": {},
   "source": [
    "#### Change the columns for the GDP Per Capita DataFrame to ‘Country’, ‘Year’, and ‘GDP_Per_Capita’."
   ]
  },
  {
   "cell_type": "code",
   "execution_count": null,
   "id": "ecbbfebf",
   "metadata": {
    "scrolled": false
   },
   "outputs": [],
   "source": [
    "  gdp1_df.columns = ['Country', 'Year', 'GDP_Per_Capita']\n",
    "gdp1_df"
   ]
  },
  {
   "cell_type": "markdown",
   "id": "3a8b4c8d",
   "metadata": {},
   "source": [
    "#### Change the columns for the Internet Users DataFrame to ‘Country’, ‘Year’, and ‘Internet_Users_Pct’."
   ]
  },
  {
   "cell_type": "code",
   "execution_count": null,
   "id": "4911a8f4",
   "metadata": {
    "scrolled": false
   },
   "outputs": [],
   "source": [
    "internet1_df.columns = ['Country', 'Year', 'Internet_Users_Pct']\n",
    "internet1_df"
   ]
  },
  {
   "cell_type": "markdown",
   "id": "a8bfe76b",
   "metadata": {},
   "source": [
    "#### Merge the two DataFrames to one. Merge **all rows** from each of the two DataFrames. Call the new DataFrame `gdp_and_internet_use`."
   ]
  },
  {
   "cell_type": "code",
   "execution_count": null,
   "id": "c96fc640",
   "metadata": {
    "scrolled": true
   },
   "outputs": [],
   "source": [
    "dfs = [gdp1_df, internet1_df]\n",
    "dfs"
   ]
  },
  {
   "cell_type": "code",
   "execution_count": null,
   "id": "b0d3281f",
   "metadata": {
    "scrolled": true
   },
   "outputs": [],
   "source": [
    "gdp_and_internet_use = pd.merge(gdp1_df, internet1_df, how = 'outer')\n",
    "\n",
    "gdp_and_internet_use\n"
   ]
  },
  {
   "cell_type": "markdown",
   "id": "06122465",
   "metadata": {},
   "source": [
    "#### Look at the first five rows of your new DataFrame to confirm it merged correctly."
   ]
  },
  {
   "cell_type": "code",
   "execution_count": null,
   "id": "75043eaa",
   "metadata": {
    "scrolled": false
   },
   "outputs": [],
   "source": [
    "gdp_and_internet_use.head()"
   ]
  },
  {
   "cell_type": "markdown",
   "id": "cfb86ebf",
   "metadata": {},
   "source": [
    "#### Look at the last five rows to make sure the data is clean and as expected."
   ]
  },
  {
   "cell_type": "code",
   "execution_count": null,
   "id": "e154c262",
   "metadata": {
    "scrolled": true
   },
   "outputs": [],
   "source": [
    "gdp_and_internet_use.tail()"
   ]
  },
  {
   "cell_type": "markdown",
   "id": "8935d4b7",
   "metadata": {},
   "source": [
    "#### Subset the combined DataFrame to keep only the data for 2004, 2009, and 2014. Check that this happened correctly."
   ]
  },
  {
   "cell_type": "code",
   "execution_count": null,
   "id": "a47c0182",
   "metadata": {
    "scrolled": false
   },
   "outputs": [],
   "source": [
    "gdp_and_internet_use_query = gdp_and_internet_use.query('Year == 2004 | Year == 2009 | Year == 2014')\n",
    "gdp_and_internet_use_query"
   ]
  },
  {
   "cell_type": "markdown",
   "id": "aed75025",
   "metadata": {},
   "source": [
    "#### Subset the combined DataFrame to keep only the data for 2004, 2009, and 2014. Check that this happened correctly."
   ]
  },
  {
   "cell_type": "code",
   "execution_count": null,
   "id": "0fe80695",
   "metadata": {
    "scrolled": true
   },
   "outputs": [],
   "source": [
    "gdp_and_internet_use_loc = gdp_and_internet_use.loc[(gdp_and_internet_use['Year'] == 2004)| (gdp_and_internet_use['Year'] == 2009)| (gdp_and_internet_use['Year'] == 2014)]\n",
    "gdp_and_internet_use_loc"
   ]
  },
  {
   "cell_type": "markdown",
   "id": "b325c032",
   "metadata": {},
   "source": [
    "#### Create three new DataFrames, one for 2004, one for 2009, and one for 2014. Give them meaningful names that aren't too long."
   ]
  },
  {
   "cell_type": "code",
   "execution_count": null,
   "id": "be5ea86e",
   "metadata": {
    "scrolled": true
   },
   "outputs": [],
   "source": [
    "my_list = [2004,2009,2014]\n",
    "my_new_list = gdp_and_internet_use.query('Year in @ my_list')\n",
    "my_new_list"
   ]
  },
  {
   "cell_type": "code",
   "execution_count": null,
   "id": "b7d7ae52",
   "metadata": {},
   "outputs": [],
   "source": [
    "gdp_and_internet_use_2004 = gdp_and_internet_use.query('Year == 2004')\n",
    "gdp_and_internet_use_2004"
   ]
  },
  {
   "cell_type": "code",
   "execution_count": null,
   "id": "70398f9b",
   "metadata": {
    "scrolled": false
   },
   "outputs": [],
   "source": [
    "gdp_and_internet_use_2009 = gdp_and_internet_use.query('Year == 2009')\n",
    "gdp_and_internet_use_2009"
   ]
  },
  {
   "cell_type": "code",
   "execution_count": null,
   "id": "9d1fc9d3",
   "metadata": {},
   "outputs": [],
   "source": [
    "gdp_and_internet_use_2014 = gdp_and_internet_use.query('Year == 2014')\n",
    "gdp_and_internet_use_2014"
   ]
  },
  {
   "cell_type": "markdown",
   "id": "3fdbd982",
   "metadata": {},
   "source": [
    "#### country with highest percentage of internet users in 2014? what percentage?"
   ]
  },
  {
   "cell_type": "code",
   "execution_count": null,
   "id": "2a64c2a4",
   "metadata": {},
   "outputs": [],
   "source": [
    "max = gdp_and_internet_use_2014.Internet_Users_Pct.max()\n",
    "max"
   ]
  },
  {
   "cell_type": "code",
   "execution_count": null,
   "id": "eb68d524",
   "metadata": {},
   "outputs": [],
   "source": [
    "country_max_2014 = gdp_and_internet_use_2014.query('Internet_Users_Pct == 98.16')\n",
    "country_max_2014"
   ]
  },
  {
   "cell_type": "markdown",
   "id": "b6b2a18a",
   "metadata": {},
   "source": [
    "#### country with lowest percentage of internet users in 2014? what percentage?"
   ]
  },
  {
   "cell_type": "code",
   "execution_count": null,
   "id": "e18290ef",
   "metadata": {},
   "outputs": [],
   "source": [
    "min = gdp_and_internet_use_2014.Internet_Users_Pct.min()\n",
    "min"
   ]
  },
  {
   "cell_type": "code",
   "execution_count": null,
   "id": "a20970c0",
   "metadata": {
    "scrolled": true
   },
   "outputs": [],
   "source": [
    "country_min_2014 = gdp_and_internet_use_2014.query('Internet_Users_Pct == 0.0')\n",
    "country_min_2014"
   ]
  },
  {
   "cell_type": "markdown",
   "id": "f0ac37be",
   "metadata": {},
   "source": [
    "#### Which country had the highest percentage of internet users in 2009? What was the percentage? "
   ]
  },
  {
   "cell_type": "code",
   "execution_count": null,
   "id": "a1f69bfe",
   "metadata": {
    "scrolled": true
   },
   "outputs": [],
   "source": [
    "max1 = gdp_and_internet_use_2009.Internet_Users_Pct.max()\n",
    "max1"
   ]
  },
  {
   "cell_type": "code",
   "execution_count": null,
   "id": "685f50a2",
   "metadata": {
    "scrolled": true
   },
   "outputs": [],
   "source": [
    "country_max_2009 = gdp_and_internet_use_2009.query('Internet_Users_Pct == 93.0')\n",
    "country_max_2009"
   ]
  },
  {
   "cell_type": "markdown",
   "id": "153d0cca",
   "metadata": {},
   "source": [
    "#### country with lowest percentage of internet users in 2009? what percentage?"
   ]
  },
  {
   "cell_type": "code",
   "execution_count": null,
   "id": "498085e0",
   "metadata": {},
   "outputs": [],
   "source": [
    "min1 = gdp_and_internet_use_2009.Internet_Users_Pct.min()\n",
    "min1"
   ]
  },
  {
   "cell_type": "code",
   "execution_count": null,
   "id": "8c84ac70",
   "metadata": {},
   "outputs": [],
   "source": [
    "country_min_2009 = gdp_and_internet_use_2009.query('Internet_Users_Pct == 0.0')\n",
    "country_min_2009"
   ]
  },
  {
   "cell_type": "markdown",
   "id": "8f4b7410",
   "metadata": {},
   "source": [
    "#### Which country had the highest percentage of internet users in 2004? What was the percentage? "
   ]
  },
  {
   "cell_type": "code",
   "execution_count": null,
   "id": "c623dc48",
   "metadata": {
    "scrolled": true
   },
   "outputs": [],
   "source": [
    "max2 = gdp_and_internet_use_2004.Internet_Users_Pct.max()\n",
    "max2"
   ]
  },
  {
   "cell_type": "code",
   "execution_count": null,
   "id": "914b768c",
   "metadata": {},
   "outputs": [],
   "source": [
    "country_max_2004 = gdp_and_internet_use_2004.query('Internet_Users_Pct == 83.89')\n",
    "country_max_2004"
   ]
  },
  {
   "cell_type": "markdown",
   "id": "0b3e0c69",
   "metadata": {},
   "source": [
    "#### country with lowest percentage of internet users in 2004? what percentage?"
   ]
  },
  {
   "cell_type": "code",
   "execution_count": null,
   "id": "c30997e3",
   "metadata": {},
   "outputs": [],
   "source": [
    "min2 = gdp_and_internet_use_2004.Internet_Users_Pct.min()\n",
    "min2"
   ]
  },
  {
   "cell_type": "code",
   "execution_count": null,
   "id": "76298a0e",
   "metadata": {},
   "outputs": [],
   "source": [
    "country_min_2004 = gdp_and_internet_use_2004.query('Internet_Users_Pct == 0.0')\n",
    "country_min_2004"
   ]
  },
  {
   "cell_type": "markdown",
   "id": "469de414",
   "metadata": {},
   "source": [
    "##### which country had the highest gdp per capita in 2014? What was the gdp per capita?"
   ]
  },
  {
   "cell_type": "code",
   "execution_count": null,
   "id": "c46e3442",
   "metadata": {
    "scrolled": true
   },
   "outputs": [],
   "source": [
    "gdp_and_internet_use_2014"
   ]
  },
  {
   "cell_type": "code",
   "execution_count": null,
   "id": "6f1edfc5",
   "metadata": {
    "scrolled": true
   },
   "outputs": [],
   "source": [
    "max = gdp_and_internet_use_2014.GDP_Per_Capita.max()\n",
    "max"
   ]
  },
  {
   "cell_type": "code",
   "execution_count": null,
   "id": "79a0bdc1",
   "metadata": {
    "scrolled": true
   },
   "outputs": [],
   "source": [
    "country_max_2014 = gdp_and_internet_use_2014.query('GDP_Per_Capita == 156514.133849784')\n",
    "country_max_2014"
   ]
  },
  {
   "cell_type": "markdown",
   "id": "b121fcef",
   "metadata": {},
   "source": [
    "#### which country had the lowest gdp per capita in 2014? What was the gdp per capita?"
   ]
  },
  {
   "cell_type": "code",
   "execution_count": null,
   "id": "388c8746",
   "metadata": {
    "scrolled": true
   },
   "outputs": [],
   "source": [
    "min = gdp_and_internet_use_2014.GDP_Per_Capita.min()\n",
    "min"
   ]
  },
  {
   "cell_type": "code",
   "execution_count": null,
   "id": "900a125d",
   "metadata": {
    "scrolled": true
   },
   "outputs": [],
   "source": [
    "country_min_2014 = gdp_and_internet_use_2014.query('GDP_Per_Capita == 822.610457816902')\n",
    "country_min_2014"
   ]
  },
  {
   "cell_type": "markdown",
   "id": "b422e40e",
   "metadata": {},
   "source": [
    "#### create scatter plots-  2004 Percent Using the Internet vs GDP Per Capita"
   ]
  },
  {
   "cell_type": "code",
   "execution_count": null,
   "id": "525b4e8d",
   "metadata": {},
   "outputs": [],
   "source": [
    "gdp_and_internet_use_2004"
   ]
  },
  {
   "cell_type": "code",
   "execution_count": null,
   "id": "a8c2b133",
   "metadata": {
    "scrolled": true
   },
   "outputs": [],
   "source": [
    "plt.scatter(gdp_and_internet_use_2004.Internet_Users_Pct,gdp_and_internet_use_2004.GDP_Per_Capita)\n",
    "plt.xlabel('2004 Percent Using the Internet')\n",
    "plt.ylabel('2004 GDP Per Capita')\n",
    "plt.show"
   ]
  },
  {
   "cell_type": "markdown",
   "id": "66176338",
   "metadata": {},
   "source": [
    "#### create scatter plots - 2009 Percent Using the Internet vs GDP Per Capita "
   ]
  },
  {
   "cell_type": "code",
   "execution_count": null,
   "id": "d66ceccf",
   "metadata": {
    "scrolled": false
   },
   "outputs": [],
   "source": [
    "plt.scatter(gdp_and_internet_use_2009.Internet_Users_Pct,gdp_and_internet_use_2009.GDP_Per_Capita)\n",
    "plt.xlabel('2009 Percent Using the Internet')\n",
    "plt.ylabel('2009 GDP Per Capita')\n",
    "plt.show"
   ]
  },
  {
   "cell_type": "markdown",
   "id": "18edf286",
   "metadata": {},
   "source": [
    "####  create scatter plots- 2014 Percent Using the Internet vs GDP Per Capita "
   ]
  },
  {
   "cell_type": "code",
   "execution_count": null,
   "id": "e7ae9c8d",
   "metadata": {},
   "outputs": [],
   "source": [
    "plt.scatter(gdp_and_internet_use_2014.Internet_Users_Pct,gdp_and_internet_use_2014.GDP_Per_Capita)\n",
    "plt.xlabel('2014 Percent Using the Internet')\n",
    "plt.ylabel('2014 GDP Per Capita')\n",
    "plt.show"
   ]
  },
  {
   "cell_type": "markdown",
   "id": "801649a8",
   "metadata": {},
   "source": [
    "#### Are there differences across years? What do the plots tell you about any relationship between these two variables?"
   ]
  },
  {
   "cell_type": "markdown",
   "id": "028d6de8",
   "metadata": {},
   "source": [
    "######  The plots shows that there is a positive correlation between the two variables - percentage of internet users and GDP Per Capita !"
   ]
  },
  {
   "cell_type": "markdown",
   "id": "2917a1b4",
   "metadata": {},
   "source": [
    "#### Look at the distribution of gdp per capita values for 2014. Is it unimodal?"
   ]
  },
  {
   "cell_type": "code",
   "execution_count": null,
   "id": "b2abc568",
   "metadata": {
    "scrolled": false
   },
   "outputs": [],
   "source": [
    "hist1 = sns.histplot(gdp_and_internet_use_2014['GDP_Per_Capita'],bins = 5);\n",
    "hist1;"
   ]
  },
  {
   "cell_type": "markdown",
   "id": "a05bb1e2",
   "metadata": {},
   "source": [
    "#### Look at the distribution of Internet Use for 2014. Is it unimodal?"
   ]
  },
  {
   "cell_type": "code",
   "execution_count": null,
   "id": "4535fbd4",
   "metadata": {
    "scrolled": true
   },
   "outputs": [],
   "source": [
    "hist2 = sns.histplot(gdp_and_internet_use_2014['Internet_Users_Pct'], bins =5);\n",
    "hist2;"
   ]
  },
  {
   "cell_type": "markdown",
   "id": "21640f89",
   "metadata": {},
   "source": [
    "#### What are the top 5 countries in terms of internet use in 2014?"
   ]
  },
  {
   "cell_type": "code",
   "execution_count": null,
   "id": "5f6e48af",
   "metadata": {
    "scrolled": false
   },
   "outputs": [],
   "source": [
    "gdp_and_internet_use_2014"
   ]
  },
  {
   "cell_type": "code",
   "execution_count": null,
   "id": "c97bcec7",
   "metadata": {
    "scrolled": false
   },
   "outputs": [],
   "source": [
    "top5_internet_2014 = gdp_and_internet_use_2014.sort_values(by = 'Internet_Users_Pct', ascending = False).head()\n",
    "top5_internet_2014"
   ]
  },
  {
   "cell_type": "code",
   "execution_count": null,
   "id": "c5138c49",
   "metadata": {
    "scrolled": true
   },
   "outputs": [],
   "source": [
    "countries_top5_internet = top5_internet_2014['Country']"
   ]
  },
  {
   "cell_type": "code",
   "execution_count": null,
   "id": "f5e88a00",
   "metadata": {},
   "outputs": [],
   "source": [
    "top5_internet_countries_2009 = gdp_and_internet_use_2009.loc[gdp_and_internet_use_2009['Country'].isin(countries_top5_internet)]\n",
    "top5_internet_countries_2009"
   ]
  },
  {
   "cell_type": "code",
   "execution_count": null,
   "id": "69038ef6",
   "metadata": {
    "scrolled": true
   },
   "outputs": [],
   "source": [
    "top5_internet_countries_2004 = gdp_and_internet_use_2004.loc[gdp_and_internet_use_2004['Country'].isin(countries_top5_internet)]\n",
    "top5_internet_countries_2004"
   ]
  },
  {
   "cell_type": "code",
   "execution_count": null,
   "id": "4cec50ef",
   "metadata": {
    "scrolled": false
   },
   "outputs": [],
   "source": [
    "concatenated_countries_top5_internet = pd.concat([top5_internet_2014,top5_internet_countries_2009,top5_internet_countries_2004])\n",
    "concatenated_countries_top5_internet"
   ]
  },
  {
   "cell_type": "markdown",
   "id": "587cf81e",
   "metadata": {},
   "source": [
    "#### Create a seaborn FacetGrid to show the internet usage trend across the years 2004, 2009, and 2014 for these 5 countries"
   ]
  },
  {
   "cell_type": "code",
   "execution_count": null,
   "id": "8f45980a",
   "metadata": {},
   "outputs": [],
   "source": [
    "facetgrid = sns.FacetGrid(concatenated_countries_top5_internet, col = 'Country')\n",
    "facetgrid.map(sns.regplot, 'Year','Internet_Users_Pct').add_legend()\n",
    "plt.show;"
   ]
  },
  {
   "cell_type": "code",
   "execution_count": null,
   "id": "69207bcd",
   "metadata": {
    "scrolled": true
   },
   "outputs": [],
   "source": [
    "facetgrid = sns.FacetGrid(concatenated_countries_top5_internet, col = 'Country')\n",
    "facetgrid.map(sns.regplot, 'Year','Internet_Users_Pct').add_legend()\n",
    "plt.show;\n"
   ]
  },
  {
   "cell_type": "code",
   "execution_count": null,
   "id": "beac02da",
   "metadata": {},
   "outputs": [],
   "source": [
    "graph = sns.FacetGrid(concatenated_countries_top5_internet,col = 'Country')\n",
    "graph.map(sns.regplot, 'Year','Internet_Users_Pct').add_legend()\n",
    "plt.show"
   ]
  },
  {
   "cell_type": "markdown",
   "id": "737fbd1d",
   "metadata": {},
   "source": [
    "#### Which country had the greatest growth between 2004 and 2014?\n",
    "###### Bermuda"
   ]
  },
  {
   "cell_type": "markdown",
   "id": "0b7ac647",
   "metadata": {},
   "source": [
    "##### look at the trend for the 5 countries with the lowest 2014 internet usage. Which country has consistently had the least internet use?"
   ]
  },
  {
   "cell_type": "code",
   "execution_count": null,
   "id": "5c147542",
   "metadata": {
    "scrolled": true
   },
   "outputs": [],
   "source": [
    "bottom5_internet_2014 = gdp_and_internet_use_2014.sort_values(by = 'Internet_Users_Pct', ascending = True).head()\n",
    "bottom5_internet_2014"
   ]
  },
  {
   "cell_type": "code",
   "execution_count": null,
   "id": "5663d7ed",
   "metadata": {
    "scrolled": true
   },
   "outputs": [],
   "source": [
    "countries_bottom5_internet = bottom5_internet_2014['Country']\n",
    "countries_bottom5_internet"
   ]
  },
  {
   "cell_type": "code",
   "execution_count": null,
   "id": "9b1f2b2b",
   "metadata": {},
   "outputs": [],
   "source": [
    "bottom5_internet_countries_2009 = gdp_and_internet_use_2009.loc[gdp_and_internet_use_2009['Country'].isin(countries_bottom5_internet)]\n",
    "bottom5_internet_countries_2009"
   ]
  },
  {
   "cell_type": "code",
   "execution_count": null,
   "id": "7c6017d8",
   "metadata": {
    "scrolled": false
   },
   "outputs": [],
   "source": [
    "bottom5_internet_countries_2004 = gdp_and_internet_use_2004.loc[gdp_and_internet_use_2004['Country'].isin(countries_bottom5_internet)]\n",
    "bottom5_internet_countries_2004"
   ]
  },
  {
   "cell_type": "code",
   "execution_count": null,
   "id": "5ea2cf3b",
   "metadata": {
    "scrolled": true
   },
   "outputs": [],
   "source": [
    "concatenated_countries_bottom5_internet = pd.concat([bottom5_internet_2014,bottom5_internet_countries_2009,bottom5_internet_countries_2004])\n",
    "concatenated_countries_bottom5_internet"
   ]
  },
  {
   "cell_type": "code",
   "execution_count": null,
   "id": "06dfba27",
   "metadata": {
    "scrolled": true
   },
   "outputs": [],
   "source": [
    "graph = sns.FacetGrid(concatenated_countries_bottom5_internet, col = 'Country')\n",
    "graph.map(sns.regplot, 'Year','Internet_Users_Pct').add_legend()\n",
    "plt.show"
   ]
  },
  {
   "cell_type": "markdown",
   "id": "6f401f9b",
   "metadata": {},
   "source": [
    "##### Timor-Leste"
   ]
  },
  {
   "cell_type": "markdown",
   "id": "7665fc74",
   "metadata": {},
   "source": [
    "#### Find the top 5 countries for 2014 in terms of GDP per capita; create a DataFrame to look at 10-year trends"
   ]
  },
  {
   "cell_type": "code",
   "execution_count": null,
   "id": "b6f049ee",
   "metadata": {
    "scrolled": false
   },
   "outputs": [],
   "source": [
    "top5_gdp_countries = gdp_and_internet_use_2014.sort_values(by = 'GDP_Per_Capita', ascending = False).head()\n",
    "top5_gdp_countries"
   ]
  },
  {
   "cell_type": "code",
   "execution_count": null,
   "id": "83d5600e",
   "metadata": {
    "scrolled": true
   },
   "outputs": [],
   "source": [
    "top5_gdp_country_list = top5_gdp_countries['Country']\n",
    "top5_gdp_country_list"
   ]
  },
  {
   "cell_type": "code",
   "execution_count": null,
   "id": "554d5506",
   "metadata": {
    "scrolled": false
   },
   "outputs": [],
   "source": [
    "top5_gdp_countries_2009 = gdp_and_internet_use_2009.loc[gdp_and_internet_use_2009['Country'].isin(top5_gdp_country_list)]\n",
    "top5_gdp_countries_2009"
   ]
  },
  {
   "cell_type": "code",
   "execution_count": null,
   "id": "4d695dd8",
   "metadata": {
    "scrolled": true
   },
   "outputs": [],
   "source": [
    "top5_gdp_countries_2004 = gdp_and_internet_use_2004.loc[gdp_and_internet_use_2004['Country'].isin(top5_gdp_country_list)]\n",
    "top5_gdp_countries_2004"
   ]
  },
  {
   "cell_type": "code",
   "execution_count": null,
   "id": "4668c93b",
   "metadata": {
    "scrolled": true
   },
   "outputs": [],
   "source": [
    "concatenated_countries_top5_gdp = pd.concat([top5_gdp_countries,top5_gdp_countries_2009,top5_gdp_countries_2004])\n",
    "concatenated_countries_top5_gdp"
   ]
  },
  {
   "cell_type": "code",
   "execution_count": null,
   "id": "940105a3",
   "metadata": {
    "scrolled": true
   },
   "outputs": [],
   "source": [
    "graph = sns.FacetGrid(concatenated_countries_top5_gdp,col = 'Country')\n",
    "graph.map(sns.regplot, 'Year','GDP_Per_Capita').add_legend()\n",
    "plt.show;"
   ]
  },
  {
   "cell_type": "markdown",
   "id": "47839ba7",
   "metadata": {},
   "source": [
    "#### "
   ]
  },
  {
   "cell_type": "markdown",
   "id": "1e24ffe8",
   "metadata": {},
   "source": [
    "#### Repeat this one more time to look at 10-year trend for the 5 countries for 2014 with the lowest GDP per capita."
   ]
  },
  {
   "cell_type": "code",
   "execution_count": null,
   "id": "a01f8614",
   "metadata": {
    "scrolled": true
   },
   "outputs": [],
   "source": [
    "bottom5_gdp_countries = gdp_and_internet_use_2014.sort_values(by = 'GDP_Per_Capita', ascending = True).head()\n",
    "bottom5_gdp_countries"
   ]
  },
  {
   "cell_type": "code",
   "execution_count": null,
   "id": "9dc6814d",
   "metadata": {
    "scrolled": true
   },
   "outputs": [],
   "source": [
    "bottom5_gdp_country_list = bottom5_gdp_countries['Country']\n",
    "bottom5_gdp_country_list"
   ]
  },
  {
   "cell_type": "code",
   "execution_count": null,
   "id": "ac0e3cd4",
   "metadata": {
    "scrolled": true
   },
   "outputs": [],
   "source": [
    "bottom5_gdp_countries_2009 = gdp_and_internet_use_2009.loc[gdp_and_internet_use_2009['Country'].isin(bottom5_gdp_country_list)]\n",
    "bottom5_gdp_countries_2009"
   ]
  },
  {
   "cell_type": "code",
   "execution_count": null,
   "id": "3e627c18",
   "metadata": {
    "scrolled": true
   },
   "outputs": [],
   "source": [
    "bottom5_gdp_countries_2004 = gdp_and_internet_use_2004.loc[gdp_and_internet_use_2004['Country'].isin(bottom5_gdp_country_list)]\n",
    "bottom5_gdp_countries_2004"
   ]
  },
  {
   "cell_type": "code",
   "execution_count": null,
   "id": "128d4bc9",
   "metadata": {
    "scrolled": true
   },
   "outputs": [],
   "source": [
    "concatenated_countries_bottom5_gdp = pd.concat([bottom5_gdp_countries,bottom5_gdp_countries_2009,bottom5_gdp_countries_2004])\n",
    "concatenated_countries_bottom5_gdp"
   ]
  },
  {
   "cell_type": "code",
   "execution_count": null,
   "id": "eff52f27",
   "metadata": {
    "scrolled": true
   },
   "outputs": [],
   "source": [
    "graph = sns.FacetGrid(concatenated_countries_bottom5_gdp, col = 'Country')\n",
    "graph.map(sns.regplot, 'Year','GDP_Per_Capita').add_legend()\n",
    "plt.show;"
   ]
  },
  {
   "cell_type": "markdown",
   "id": "57d314a2",
   "metadata": {},
   "source": [
    "#### "
   ]
  },
  {
   "cell_type": "code",
   "execution_count": null,
   "id": "65db86c0",
   "metadata": {},
   "outputs": [],
   "source": []
  }
 ],
 "metadata": {
  "kernelspec": {
   "display_name": "Python 3 (ipykernel)",
   "language": "python",
   "name": "python3"
  },
  "language_info": {
   "codemirror_mode": {
    "name": "ipython",
    "version": 3
   },
   "file_extension": ".py",
   "mimetype": "text/x-python",
   "name": "python",
   "nbconvert_exporter": "python",
   "pygments_lexer": "ipython3",
   "version": "3.9.12"
  }
 },
 "nbformat": 4,
 "nbformat_minor": 5
}
